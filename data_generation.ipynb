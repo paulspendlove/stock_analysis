{
 "cells": [
  {
   "cell_type": "markdown",
   "metadata": {},
   "source": [
    "### Paul Spendlove\n",
    "### A02242861\n",
    "\n",
    "# Data Generation Scripts"
   ]
  },
  {
   "cell_type": "code",
   "execution_count": 1,
   "metadata": {},
   "outputs": [],
   "source": [
    "# %pip install yfinance\n",
    "import requests\n",
    "import yfinance as yf\n",
    "import pandas as pd"
   ]
  },
  {
   "cell_type": "markdown",
   "metadata": {},
   "source": [
    "### 1.\n",
    "\n",
    "Load all NASDAQ tickers into columns, with price traded for each date in stock market history as the rows."
   ]
  },
  {
   "cell_type": "code",
   "execution_count": 2,
   "metadata": {},
   "outputs": [],
   "source": [
    "nasdaq_traded_url = \"http://www.nasdaqtrader.com/dynamic/SymDir/nasdaqtraded.txt\"\n",
    "response = requests.get(nasdaq_traded_url)\n",
    "data = response.content.decode('utf-8')"
   ]
  },
  {
   "cell_type": "markdown",
   "metadata": {},
   "source": [
    "Run this to create the big dataset.  \n",
    "\n",
    "Estimated time running: 10 - 15 minutes (sorry)"
   ]
  },
  {
   "cell_type": "code",
   "execution_count": 3,
   "metadata": {},
   "outputs": [
    {
     "name": "stderr",
     "output_type": "stream",
     "text": [
      "[*********************100%%**********************]  7584 of 7584 completed\n",
      "\n",
      "619 Failed downloads:\n",
      "['GPMT$A', 'AXS$E', 'PSA$Q', 'MDV$A', 'VNO$L', 'GMRE$A', 'PL.W', 'RIV$A', 'GSL$B', 'DSX$B', 'F$D', 'EFC$B', 'O$', 'REXR$C', 'JPM$L', 'CMS$B', 'SEAL$A', 'PCG$A', 'JOBY.W', 'RMPL$', 'PEB$F', 'SCHW$D', 'SB$C', 'IIPR$A', 'SCE$L', 'GLU$A', 'USB$P', 'USB$H', 'EBR.B', 'GS$C', 'PBR.A', 'CNO$A', 'BNRE.A', 'WBS$G', 'LEGT.U', 'TRIS.W', 'HIG$G', 'PCG$B', 'GDV$H', 'PCG$G', 'ALB$A', 'CIM$B', 'WFC$L', 'BMTX.W', 'HVT.A', 'BFS$D', 'AP.W', 'PSA$S', 'MET$A', 'AHT$H', 'CLVT$A', 'CFR$B', 'NGL$C', 'RDW.W', 'EQC$D', 'DMYY.W', 'DLR$J', 'FHN$E', 'MS$O', 'CVE.W', 'MKFG.W', 'PHYT.U', 'HL$B', 'ARGO$A', 'SBXC.W', 'SPNT$B', 'BAC$N', 'PRIF$K', 'SHO$I', 'GAB$H', 'NYCB$A', 'PRIF$H', 'ETWO.W', 'BFLY.W', 'NCV$A', 'OXY.W', 'KIM$L', 'PSA$I', 'CMRE$B', 'C$N', 'EFC$A', 'RJF$B', 'BC$A', 'COF$J', 'ATH$A', 'ACR$D', 'AHL$E', 'SMR.W', 'PCG$C', 'JWSM.W', 'OAK$A', 'BML$H', 'WSO.B', 'PSA$R', 'SYF$B', 'NEE$R', 'CMS$C', 'AHT$I', 'GS$K', 'DMYY.U', 'FHN$B', 'MS$K', 'AHH$A', 'MS$L', 'AMPX.W', 'BAC$O', 'PRIF$I', 'SOC.W', 'CNDA.U', 'USB$R', 'AKO.A', 'APCA.W', 'BAC$E', 'TDW.W', 'CRD.A', 'MET$F', 'RCFA.W', 'USB$A', 'MIR.W', 'INN$F', 'PCG$I', 'GDV$K', 'IONQ.W', 'RC$C', 'GL$D', 'BITE.U', 'DBRG$J', 'WEL.U', 'SOAR.W', 'SPLP$A', 'CELG.R', 'VOYA$B', 'HNRA.W', 'AKO.B', 'PRIF$J', 'NCZ$A', 'GLP$B', 'BKSY.W', 'OUST.W', 'GNL$E', 'AGM$E', 'BHR$D', 'DNA.W', 'MNTN.W', 'EFC$C', 'KEY$L', 'CHMI$B', 'BLUA.U', 'EQH$A', 'SACH$A', 'AGM.A', 'BAC$P', 'NE.W', 'CIM$D', 'NOTE.W', 'RRAC.W', 'VHAI.B', 'BRK.B', 'CIG.C', 'DRH$A', 'T$C', 'CSR$C', 'SYF$A', 'LVWR.W', 'GAM$B', 'BRK.A', 'PSA$M', 'CODI$A', 'NSA$A', 'FHN$F', 'UWMC.W', 'CTO$A', 'BKKT.W', 'GNL$D', 'HGTY.W', 'VLN.W', 'PCG$E', 'FLYX.W', 'TWO$C', 'TRTL.U', 'TDS$U', 'APCA.U', 'GLOP$B', 'TRTN$C', 'MS$P', 'ABR$F', 'SEAL$B', 'LCW.W', 'GCTS.W', 'IFN.V', 'ATH$B', 'ALL$I', 'CODI$B', 'MS$F', 'ABR$E', 'ETI$', 'PSA$H', 'TWO$B', 'BBAI.W', 'SNV$E', 'CTV.W', 'QBTS.W', 'DSX.W', 'BEP$A', 'UMH$D', 'JPM$J', 'WFC$C', 'MET$E', 'ACP$A', 'LXP$C', 'RHE$A', 'EPR$E', 'STT$G', 'TCOA.U', 'LFT$A', 'DC.W', 'NS$C', 'ARR$C', 'CLBR.W', 'NFYS.W', 'SCE$H', 'TAP.A', 'MS$E', 'NLY$I', 'CDR$B', 'LGF.A', 'NS$A', 'EVE.U', 'IFIN.U', 'HIPO.W', 'GRBK$A', 'WRB$G', 'BITE.W', 'PSA$G', 'WRB$E', 'HFRO$A', 'RBOT.W', 'BAC$K', 'PBI$B', 'RITM$B', 'PSA$K', 'BANC$F', 'RF$E', 'DLR$L', 'OPFI.W', 'BIP$B', 'ADC$A', 'RWT$A', 'JPM$K', 'WBX.W', 'OAK$B', 'JPM$M', 'DLNG$B', 'ATEK.W', 'PSFE.W', 'EVEX.W', 'MOG.B', 'NUVB.W', 'AACT.W', 'GNT$A', 'ATH$E', 'BAC$B', 'TRTN$B', 'SES.W', 'GWH.W', 'GRP.U', 'SEDA.U', 'ET$I', 'RNR$G', 'NFYS.U', 'SBEV.W', 'LANV.W', 'BFAC.W', 'MOG.A', 'VNO$O', 'ALL$J', 'PW$A', 'BLUA.W', 'FOA.W', 'NSA$B', 'AULT$D', 'MTB$H', 'PGSS.U', 'ALUR.W', 'TFC$I', 'NLY$G', 'CIO$A', 'BHR$B', 'AMBP.W', 'RLJ$A', 'JXN$A', 'AACT.U', 'MS$I', 'FHN$D', 'LMND.W', 'OSI.U', 'GNL$B', 'CTA$A', 'AUB$A', 'HYAC.U', 'AEL$A', 'SBXC.U', 'DSAQ.U', 'KCGI.W', 'ET$E', 'TDS$V', 'AEVA.W', 'VNO$M', 'TFC$O', 'ABR$D', 'MFA$B', 'EFC$E', 'KEY$I', 'ALTG$A', 'ECC$D', 'PSQH.W', 'BML$J', 'COF$N', 'APO$A', 'VCXB.W', 'GTLS$B', 'BFS$E', 'HEI.A', 'EVTL.W', 'AGM$D', 'VNO$N', 'GAB$K', 'AGM$C', 'WFC$Y', 'KCGI.U', 'CTA$B', 'SCE$J', 'ASB$F', 'ASB$E', 'FREY.W', 'NGL$B', 'MER$K', 'IVR$C', 'EPR$C', 'RITM$A', 'TRTL.W', 'BAC$S', 'BF.A', 'CNDA.W', 'HWM$', 'COF$L', 'TY$', 'DX$C', 'ICR$A', 'TRTN$E', 'ATH$C', 'USB$Q', 'FHN$C', 'BAC$L', 'GDL$C', 'PCG$H', 'SST.W', 'GGN$B', 'CODI$C', 'IVR$B', 'MITT$C', 'RF$C', 'JPM$C', 'BOH$A', 'PRIF$F', 'PSA$J', 'AHL$D', 'AHL$C', 'CMRE$C', 'PSA$O', 'PEB$E', 'AMH$H', 'ALL$H', 'REXR$B', 'FRT$C', 'SEDA.W', 'BW$A', 'WCC$A', 'KIM$N', 'RC$E', 'GUT$C', 'GTN.A', 'SPG$J', 'NREF$A', 'CUBI$F', 'KIM$M', 'PSA$N', 'CRD.B', 'NS$B', 'ACR$C', 'OSI.W', 'GS$A', 'WFC$A', 'SLG$I', 'LZM.W', 'DBRG$I', 'BC$C', 'CLBR.U', 'MNTN.U', 'GGT$G', 'SCE$K', 'HPP$C', 'TRIS.U', 'GLOG$A', 'BCV$A', 'SCHW$J', 'RNR$F', 'AHT$G', 'PSA$L', 'GLOP$A', 'PCG$D', 'LEV.W', 'CDR$C', 'WAL$A', 'SPE$C', 'WBS$F', 'PRIF$L', 'PRIF$G', 'TNP$E', 'GNL$A', 'PEB$G', 'EFC$D', 'LNC$D', 'YCBD$A', 'BIP$A', 'EVE.W', 'ALL$B', 'CIM$A', 'COF$K', 'AL$A', 'AMBI.W', 'GGT$E', 'NLY$F', 'TCOA.W', 'ML.W', 'KEY$J', 'PHGE.U', 'CIM$C', 'CMRE$E', 'SB$D', 'CUBI$E', 'RCFA.U', 'LEGT.W', 'SF$B', 'BFAC.U', 'SITC$A', 'SRG$A', 'WRB$F', 'DBRG$H', 'HLLY.W', 'NXDT$A', 'PSA$F', 'KREF$A', 'AHT$F', 'CADE$A', 'RF$B', 'PERF.W', 'SF$C', 'GS$D', 'ATCO$D', 'TRTX$C', 'ATCO$H', 'BC$B', 'EPR$G', 'AEL$B', 'IRS.W', 'VHAI.A', 'PRIF$D', 'PGSS.W', 'PMT$A', 'KEY$K', 'OPP$B', 'CHMI$A', 'SCE$G', 'SKYH.W', 'PEB$H', 'LEV.A', 'LCW.U', 'SR$A', 'MKC.V', 'NPWR.W', 'VCXB.U', 'SNV$D', 'MITT$B', 'CLDT$A', 'RITM$D', 'AMH$G', 'LLAP.W', 'BAC$M', 'ATH$D', 'INN$E', 'MFA$C', 'RRAC.U', 'COF$I', 'WEL.W', 'CWEN.A', 'BML$G', 'WRB$H', 'SLND.W', 'LGL.W', 'CFG$D', 'WFC$D', 'ATEK.U', 'PSA$P', 'CMRE$D', 'VLD.W', 'CLDI.W', 'PMT$B', 'GRND.W', 'VAL.W', 'CFG$E', 'USB$S', 'OPP$A', 'TFC$R', 'JWSM.U', 'PNST.W', 'AHT$D', 'SHO$H', 'JPM$D', 'TNP$F', 'MITT$A', 'ACHR.W', 'DLR$K', 'MAA$I', 'F$B', 'PHYT.W', 'T$A', 'PMT$C', 'TWO$A', 'HYAC.W', 'SCE$M', 'PRE$J', 'ADRT.U', 'F$C', 'RITM$C', 'OUST.A', 'BML$L', 'BH.A', 'ECF$A', 'BAC$Q', 'NEE$N', 'GLU$B', 'FBRT$E', 'GB.W', 'NE.A', 'SF$D', 'GLOP$C', 'GAB$G', 'EQH$C', 'EP$C', 'DLNG$A', 'MRDB.W', 'WFC$Z', 'NYCB$U', 'MS$A', 'DUK$A', 'TRTN$A', 'TRTN$D', 'AGM$F', 'PSEC$A', 'AEON.W', 'AGM$G', 'MTAL.W', 'BARK.W', 'XFLT$A']: Exception('%ticker%: No timezone found, symbol may be delisted')\n",
      "['BF.B', 'LEN.B', 'EMP', 'GEF.B', 'EAI', 'BIO.B', 'UHAL.B', 'LGF.B']: Exception('%ticker%: No price data found, symbol may be delisted (1d 1925-05-13 -> 2024-04-19)')\n",
      "['BRACR', 'QETAR', 'BLACR', 'FEXDR', 'WTMAR', 'AFJKR', 'NVACR', 'GLLIR', 'CETUR', 'GDSTR', 'SFB', 'CLRCR', 'GECCI', 'AIBBR', 'QOMOR', 'RFACR', 'YOTAR', 'EMCGR', 'CNFRZ', 'FLFVR', 'DYCQR', 'GECCZ', 'IGTAR', 'BAYAR', 'HHGCR', 'CSLMR', 'BNIXR', 'MARXR', 'GLSTR', 'TENKR', 'GLACR', 'ATMVR', 'AQUNR', 'AITRR', 'GODNR', 'MCACR', 'HSPOR', 'ATMCR', 'DISTR', 'IMAQR', 'BUJAR', 'CLOER', 'TMTCR', 'MSSAR', 'BLEUR', 'JVSAR']: Exception(\"%ticker%: Period 'max' is invalid, must be one of ['1d', '5d']\")\n"
     ]
    }
   ],
   "source": [
    "symbols = [line.split('|')[1] for line in data.splitlines()[1:] if len(line.split('|')) >= 8 if line.split('|')[7] == 'N' and line.split('|')[5] == 'N']\n",
    "\n",
    "symbols = list(set(symbols))\n",
    "\n",
    "data2 = yf.download(symbols, period=\"max\")[\"Close\"]\n",
    "\n",
    "data2.to_csv(\"nasdaq_historical_data.csv\")"
   ]
  },
  {
   "cell_type": "markdown",
   "metadata": {},
   "source": [
    "### 2.\n",
    "\n",
    "Create new file mapping each stock ticker to a readable stock name.\n",
    "\n",
    "Estimated time running: 1 minute"
   ]
  },
  {
   "cell_type": "code",
   "execution_count": 4,
   "metadata": {},
   "outputs": [],
   "source": [
    "ticker_info = pd.DataFrame(columns=['Ticker', 'Company Name'])\n",
    "\n",
    "for line in data.splitlines()[1:]:\n",
    "    if len(line.split('|')) >= 8:\n",
    "        if line.split('|')[7] == 'N' and line.split('|')[5] == 'N':\n",
    "            ticker_info = ticker_info.append({'Ticker': line.split('|')[1], 'Company Name': line.split('|')[2]}, ignore_index=True)\n",
    "\n",
    "\n",
    "ticker_info.to_csv(\"ticker_company_name_map.csv\", index=False)"
   ]
  },
  {
   "cell_type": "markdown",
   "metadata": {},
   "source": [
    "### 3. \n",
    "\n",
    "Load data for the top 15 stocks with the highest market cap (roughly equivalent to the top few of the S&P 500)"
   ]
  },
  {
   "cell_type": "code",
   "execution_count": 5,
   "metadata": {},
   "outputs": [
    {
     "name": "stderr",
     "output_type": "stream",
     "text": [
      "[**********************60%%***                   ]  9 of 15 completedFailed to get ticker 'BRK/B' reason: Expecting value: line 1 column 1 (char 0)\n",
      "[**********************67%%******                ]  10 of 15 completedFailed to get ticker 'BRK/A' reason: Expecting value: line 1 column 1 (char 0)\n",
      "[*********************100%%**********************]  15 of 15 completed\n",
      "\n",
      "2 Failed downloads:\n",
      "['BRK/B', 'BRK/A']: Exception('%ticker%: No timezone found, symbol may be delisted')\n"
     ]
    }
   ],
   "source": [
    "market_cap_data = pd.read_csv('nasdaq_screener.csv')\n",
    "\n",
    "top_market_caps = market_cap_data.sort_values(by='Market Cap', ascending=False).head(15)\n",
    "\n",
    "top_15_symbols = top_market_caps['Symbol'].tolist()\n",
    "\n",
    "high_cap_nasdaq_symbols = [symbol for symbol in top_15_symbols]\n",
    "\n",
    "data_high_cap = yf.download(high_cap_nasdaq_symbols, period=\"max\")[\"Close\"]\n",
    "\n",
    "data_high_cap.to_csv(\"nasdaq_high_market_cap_historical_data.csv\")"
   ]
  }
 ],
 "metadata": {
  "kernelspec": {
   "display_name": "Python 3",
   "language": "python",
   "name": "python3"
  },
  "language_info": {
   "codemirror_mode": {
    "name": "ipython",
    "version": 3
   },
   "file_extension": ".py",
   "mimetype": "text/x-python",
   "name": "python",
   "nbconvert_exporter": "python",
   "pygments_lexer": "ipython3",
   "version": "3.9.7"
  }
 },
 "nbformat": 4,
 "nbformat_minor": 2
}
